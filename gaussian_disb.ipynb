{
 "cells": [
  {
   "cell_type": "markdown",
   "id": "9d48d739-9f71-46a3-bd51-8d747e4adf0e",
   "metadata": {},
   "source": [
    "# **Gaussian Distribution**"
   ]
  },
  {
   "cell_type": "code",
   "execution_count": null,
   "id": "1f038be6-b115-4a9c-bf0e-bf8f4bae1f9f",
   "metadata": {},
   "outputs": [],
   "source": []
  }
 ],
 "metadata": {
  "kernelspec": {
   "display_name": "hellcat:Python",
   "language": "python",
   "name": "conda-env-hellcat-py"
  },
  "language_info": {
   "codemirror_mode": {
    "name": "ipython",
    "version": 3
   },
   "file_extension": ".py",
   "mimetype": "text/x-python",
   "name": "python",
   "nbconvert_exporter": "python",
   "pygments_lexer": "ipython3",
   "version": "3.10.14"
  }
 },
 "nbformat": 4,
 "nbformat_minor": 5
}
