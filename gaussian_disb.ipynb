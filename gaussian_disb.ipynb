{
 "cells": [
  {
   "cell_type": "markdown",
   "id": "9d48d739-9f71-46a3-bd51-8d747e4adf0e",
   "metadata": {},
   "source": [
    "# **Gaussian Distribution**"
   ]
  },
  {
   "cell_type": "markdown",
   "id": "48aaacd0-e21f-467f-9b3b-76cebf9c20e7",
   "metadata": {},
   "source": [
    "This notebook, covers the underlying principle of Gaussian Distributions. Covering each segment in detail and relative to context i.e. Business."
   ]
  }
 ],
 "metadata": {
  "kernelspec": {
   "display_name": "hellcat:Python",
   "language": "python",
   "name": "conda-env-hellcat-py"
  },
  "language_info": {
   "codemirror_mode": {
    "name": "ipython",
    "version": 3
   },
   "file_extension": ".py",
   "mimetype": "text/x-python",
   "name": "python",
   "nbconvert_exporter": "python",
   "pygments_lexer": "ipython3",
   "version": "3.10.14"
  }
 },
 "nbformat": 4,
 "nbformat_minor": 5
}
