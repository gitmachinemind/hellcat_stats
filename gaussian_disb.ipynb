{
  "nbformat": 4,
  "nbformat_minor": 0,
  "metadata": {
    "colab": {
      "provenance": [],
      "authorship_tag": "ABX9TyPQox6OPEK+HcpqYscbni2W",
      "include_colab_link": true
    },
    "kernelspec": {
      "name": "python3",
      "display_name": "Python 3"
    },
    "language_info": {
      "name": "python"
    }
  },
  "cells": [
    {
      "cell_type": "markdown",
      "metadata": {
        "id": "view-in-github",
        "colab_type": "text"
      },
      "source": [
        "<a href=\"https://colab.research.google.com/github/gitmachinemind/hellcat_stats/blob/main/gaussian_disb.ipynb\" target=\"_parent\"><img src=\"https://colab.research.google.com/assets/colab-badge.svg\" alt=\"Open In Colab\"/></a>"
      ]
    },
    {
      "cell_type": "markdown",
      "source": [
        "### **Gaussian Distribution**"
      ],
      "metadata": {
        "id": "raXFp4LEYRaJ"
      }
    },
    {
      "cell_type": "markdown",
      "source": [
        "### **Z-Score(CDF)**"
      ],
      "metadata": {
        "id": "3Uvb3tZtT-UR"
      }
    },
    {
      "cell_type": "code",
      "source": [
        "from scipy.stats import norm# Imports Normal Distribution Functions"
      ],
      "metadata": {
        "id": "WkqolvlZbcxp"
      },
      "execution_count": 1,
      "outputs": []
    },
    {
      "cell_type": "code",
      "source": [
        "# Fraction of balls between 53mm and 47mm\n",
        "mu = 50\n",
        "sigma = 2\n",
        "\n",
        "x1 = 53\n",
        "x2 = 47\n",
        "\n",
        "z1 = (x1-mu)/sigma\n",
        "z2 = (x2-mu)/sigma\n",
        "\n",
        "fraction = norm.cdf(z1) - norm.cdf(z2)\n",
        "\n",
        "print(fraction * 100)"
      ],
      "metadata": {
        "colab": {
          "base_uri": "https://localhost:8080/"
        },
        "id": "mDUjTyT9UAIX",
        "outputId": "c28c072d-2492-4859-c8e3-330af94d98df"
      },
      "execution_count": 2,
      "outputs": [
        {
          "output_type": "stream",
          "name": "stdout",
          "text": [
            "86.63855974622838\n"
          ]
        }
      ]
    },
    {
      "cell_type": "markdown",
      "source": [
        "### **PPF**"
      ],
      "metadata": {
        "id": "4jUDj5cPUDRU"
      }
    },
    {
      "cell_type": "code",
      "source": [
        "norm.ppf(0.99)"
      ],
      "metadata": {
        "colab": {
          "base_uri": "https://localhost:8080/"
        },
        "id": "e74mxR44UBzY",
        "outputId": "3ae17cf0-0b47-4a9a-86d3-633ae00ff698"
      },
      "execution_count": 3,
      "outputs": [
        {
          "output_type": "execute_result",
          "data": {
            "text/plain": [
              "2.3263478740408408"
            ]
          },
          "metadata": {},
          "execution_count": 3
        }
      ]
    },
    {
      "cell_type": "code",
      "source": [
        "# People faster than 95% of the competition\n",
        "\n",
        "mu = 7.42\n",
        "sigma = 0.34\n",
        "\n",
        "z = norm.ppf(0.05)\n",
        "\n",
        "x = mu + z * sigma\n",
        "\n",
        "500/x"
      ],
      "metadata": {
        "colab": {
          "base_uri": "https://localhost:8080/"
        },
        "id": "cokJv71LUFYB",
        "outputId": "12155310-a23c-473e-e5fe-c5d42df58ec6"
      },
      "execution_count": 4,
      "outputs": [
        {
          "output_type": "execute_result",
          "data": {
            "text/plain": [
              "72.87833210546471"
            ]
          },
          "metadata": {},
          "execution_count": 4
        }
      ]
    }
  ]
}