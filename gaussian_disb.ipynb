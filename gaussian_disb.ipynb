{
 "cells": [
  {
   "cell_type": "markdown",
   "id": "9d48d739-9f71-46a3-bd51-8d747e4adf0e",
   "metadata": {},
   "source": [
    "# **Gaussian Distribution**"
   ]
  },
  {
   "cell_type": "markdown",
   "id": "48aaacd0-e21f-467f-9b3b-76cebf9c20e7",
   "metadata": {},
   "source": [
    "This notebook, covers the underlying principle of Gaussian Distributions. Covering each segment in detail and relative to context i.e. Business."
   ]
  },
  {
   "cell_type": "markdown",
   "id": "18c39098-4ddc-486e-9052-bef78007b069",
   "metadata": {},
   "source": [
    "### **Z-Score(CDF)**"
   ]
  },
  {
   "cell_type": "code",
   "execution_count": 1,
   "id": "0d8b8414-b12e-4028-b401-1f1685df1703",
   "metadata": {
    "tags": []
   },
   "outputs": [],
   "source": [
    "from scipy.stats import norm# Imports Normal Distribution Functions"
   ]
  },
  {
   "cell_type": "code",
   "execution_count": 3,
   "id": "69902afa-bd74-4e83-8455-2746750e2069",
   "metadata": {
    "tags": []
   },
   "outputs": [
    {
     "name": "stdout",
     "output_type": "stream",
     "text": [
      "86.63855974622838\n"
     ]
    }
   ],
   "source": [
    "# Fraction of balls between 53mm and 47mm\n",
    "mu = 50\n",
    "sigma = 2\n",
    "\n",
    "x1 = 53\n",
    "x2 = 47\n",
    "\n",
    "z1 = (x1-mu)/sigma\n",
    "z2 = (x2-mu)/sigma\n",
    "\n",
    "fraction = norm.cdf(z1) - norm.cdf(z2)\n",
    "\n",
    "print(fraction * 100)"
   ]
  },
  {
   "cell_type": "markdown",
   "id": "5213484b-398f-4c3d-9b9f-601cfa23641e",
   "metadata": {},
   "source": [
    "### **PPF**"
   ]
  },
  {
   "cell_type": "code",
   "execution_count": 4,
   "id": "95cef795-3c5f-4343-aba1-285c6099dd70",
   "metadata": {
    "tags": []
   },
   "outputs": [
    {
     "data": {
      "text/plain": [
       "2.3263478740408408"
      ]
     },
     "execution_count": 4,
     "metadata": {},
     "output_type": "execute_result"
    }
   ],
   "source": [
    "norm.ppf(0.99)"
   ]
  },
  {
   "cell_type": "code",
   "execution_count": 9,
   "id": "18ff4266-10f7-4931-846e-79ace93aa39f",
   "metadata": {
    "tags": []
   },
   "outputs": [
    {
     "data": {
      "text/plain": [
       "72.87833210546471"
      ]
     },
     "execution_count": 9,
     "metadata": {},
     "output_type": "execute_result"
    }
   ],
   "source": [
    "# People faster than 95% of the competition\n",
    "\n",
    "mu = 7.42\n",
    "sigma = 0.34\n",
    "\n",
    "z = norm.ppf(0.05)\n",
    "\n",
    "x = mu + z * sigma\n",
    "\n",
    "500/x"
   ]
  }
 ],
 "metadata": {
  "kernelspec": {
   "display_name": "hellcat:Python",
   "language": "python",
   "name": "conda-env-hellcat-py"
  },
  "language_info": {
   "codemirror_mode": {
    "name": "ipython",
    "version": 3
   },
   "file_extension": ".py",
   "mimetype": "text/x-python",
   "name": "python",
   "nbconvert_exporter": "python",
   "pygments_lexer": "ipython3",
   "version": "3.10.14"
  }
 },
 "nbformat": 4,
 "nbformat_minor": 5
}
