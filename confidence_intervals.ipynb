{
  "nbformat": 4,
  "nbformat_minor": 0,
  "metadata": {
    "colab": {
      "provenance": [],
      "authorship_tag": "ABX9TyPCUU7jwRJF+huqx1BFPsDT",
      "include_colab_link": true
    },
    "kernelspec": {
      "name": "python3",
      "display_name": "Python 3"
    },
    "language_info": {
      "name": "python"
    }
  },
  "cells": [
    {
      "cell_type": "markdown",
      "metadata": {
        "id": "view-in-github",
        "colab_type": "text"
      },
      "source": [
        "<a href=\"https://colab.research.google.com/github/gitmachinemind/hellcat_stats/blob/main/confidence_intervals.ipynb\" target=\"_parent\"><img src=\"https://colab.research.google.com/assets/colab-badge.svg\" alt=\"Open In Colab\"/></a>"
      ]
    },
    {
      "cell_type": "markdown",
      "source": [
        "# **Confidence Intervals**"
      ],
      "metadata": {
        "id": "KzyFVHnkZd9l"
      }
    },
    {
      "cell_type": "markdown",
      "source": [
        "Notes: https://drive.google.com/file/d/1UHFtY6OUt6bGUVqtE7C7j9OjXA1bdvmQ/view?usp=drive_link"
      ],
      "metadata": {
        "id": "6LUb67MclZxA"
      }
    },
    {
      "cell_type": "code",
      "execution_count": 1,
      "metadata": {
        "id": "v7d9UwUHZYnX"
      },
      "outputs": [],
      "source": [
        "import numpy as np\n",
        "import pandas as pd\n",
        "import seaborn as sns\n",
        "import matplotlib.pyplot as plt\n",
        "from scipy.stats import norm"
      ]
    },
    {
      "cell_type": "markdown",
      "source": [
        "**Q) The mean height of sample of 100 adults was found to be 65 inches, with a standard deviation of 2.5, Find the interval with confidence of 95%**"
      ],
      "metadata": {
        "id": "VV_M_uZ5pqHP"
      }
    },
    {
      "cell_type": "code",
      "source": [
        "mu = 65\n",
        "sigma = 2.5\n",
        "n = 100\n",
        "std_err = sigma/np.sqrt(100)\n",
        "\n",
        "alpha = 0.95\n",
        "\n",
        "z1 = norm.ppf(0.025)\n",
        "z2 = norm.ppf(0.975)\n",
        "\n",
        "x1 = mu + z1*std_err\n",
        "x2 = mu + z2*std_err\n",
        "\n",
        "print(x1,x2)"
      ],
      "metadata": {
        "colab": {
          "base_uri": "https://localhost:8080/"
        },
        "id": "lOjgeYEGZmqb",
        "outputId": "89cb8a88-8b54-4475-d0ca-96195dd8fca1"
      },
      "execution_count": 2,
      "outputs": [
        {
          "output_type": "stream",
          "name": "stdout",
          "text": [
            "64.51000900386498 65.48999099613502\n"
          ]
        }
      ]
    },
    {
      "cell_type": "code",
      "source": [
        "alpha = 0.99\n",
        "\n",
        "z1 = norm.ppf(0.005)\n",
        "z2 = norm.ppf(0.995)\n",
        "\n",
        "x1 = mu + z1*std_err\n",
        "x2 = mu + z2*std_err\n",
        "\n",
        "print(x1,x2)"
      ],
      "metadata": {
        "colab": {
          "base_uri": "https://localhost:8080/"
        },
        "id": "k17KavQ-sNtT",
        "outputId": "f92035c1-f324-460b-b3e6-3df1f681a0e0"
      },
      "execution_count": 7,
      "outputs": [
        {
          "output_type": "stream",
          "name": "stdout",
          "text": [
            "64.35604267411277 65.64395732588723\n"
          ]
        }
      ]
    },
    {
      "cell_type": "markdown",
      "source": [
        "### **Booststrap**"
      ],
      "metadata": {
        "id": "auV2mdjvwdRC"
      }
    },
    {
      "cell_type": "code",
      "source": [
        "survey_1 = [35,36,33,37,34,35]\n",
        "survey_2 = [20,37,17,50,53,33]"
      ],
      "metadata": {
        "id": "oVbkG6CIsS9p"
      },
      "execution_count": 8,
      "outputs": []
    },
    {
      "cell_type": "code",
      "source": [
        "np.mean(survey_1), np.mean(survey_2)"
      ],
      "metadata": {
        "colab": {
          "base_uri": "https://localhost:8080/"
        },
        "id": "6ttSW7kdwlSY",
        "outputId": "b4cb5967-66f6-4565-f388-1423c8eb39d1"
      },
      "execution_count": 9,
      "outputs": [
        {
          "output_type": "execute_result",
          "data": {
            "text/plain": [
              "(35.0, 35.0)"
            ]
          },
          "metadata": {},
          "execution_count": 9
        }
      ]
    },
    {
      "cell_type": "code",
      "source": [
        "np.std(survey_1), np.std(survey_2)"
      ],
      "metadata": {
        "colab": {
          "base_uri": "https://localhost:8080/"
        },
        "id": "wtC6v3f1w0FQ",
        "outputId": "d13c9134-c91a-44e4-927a-02e9f1c774fc"
      },
      "execution_count": 10,
      "outputs": [
        {
          "output_type": "execute_result",
          "data": {
            "text/plain": [
              "(1.2909944487358056, 13.576941236277534)"
            ]
          },
          "metadata": {},
          "execution_count": 10
        }
      ]
    },
    {
      "cell_type": "code",
      "source": [
        "n = 10\n",
        "sample = np.random.choice(survey_1, size=10)\n",
        "np.mean(sample)"
      ],
      "metadata": {
        "colab": {
          "base_uri": "https://localhost:8080/"
        },
        "id": "UxrNg99nw4Vn",
        "outputId": "b1be454d-e690-429e-fffd-03ab94dedc47"
      },
      "execution_count": 21,
      "outputs": [
        {
          "output_type": "execute_result",
          "data": {
            "text/plain": [
              "34.6"
            ]
          },
          "metadata": {},
          "execution_count": 21
        }
      ]
    },
    {
      "cell_type": "code",
      "source": [
        "n = 10\n",
        "sample = np.random.choice(survey_2, size=10)\n",
        "np.mean(sample)"
      ],
      "metadata": {
        "colab": {
          "base_uri": "https://localhost:8080/"
        },
        "id": "3lcYE0AuxDE9",
        "outputId": "f211d1e5-48c0-454b-92ec-07c40ac5cdc0"
      },
      "execution_count": 22,
      "outputs": [
        {
          "output_type": "execute_result",
          "data": {
            "text/plain": [
              "45.9"
            ]
          },
          "metadata": {},
          "execution_count": 22
        }
      ]
    },
    {
      "cell_type": "code",
      "source": [
        "n=10\n",
        "bootstrapped_means_survey_1 = []\n",
        "for i in range(10000):\n",
        "    bootstrapped_samples = np.random.choice(survey_1,size=n)\n",
        "    bootstrapped_mean = np.mean(bootstrapped_samples)           # CLT\n",
        "    bootstrapped_means_survey_1.append(bootstrapped_mean)\n",
        "\n",
        "bootstrapped_means_survey_2 = []\n",
        "for i in range(10000):\n",
        "    bootstrapped_samples = np.random.choice(survey_2,size=n )\n",
        "    bootstrapped_mean = np.mean(bootstrapped_samples)\n",
        "    bootstrapped_means_survey_2.append(bootstrapped_mean)"
      ],
      "metadata": {
        "id": "giO45QpqxPgT"
      },
      "execution_count": 40,
      "outputs": []
    },
    {
      "cell_type": "code",
      "source": [
        "sns.histplot(bootstrapped_means_survey_1)\n",
        "np.mean(bootstrapped_means_survey_1)"
      ],
      "metadata": {
        "colab": {
          "base_uri": "https://localhost:8080/",
          "height": 448
        },
        "id": "F6KSM3-Ayz4I",
        "outputId": "a3b03d4b-7527-4d1f-a72b-62b7ffbc7553"
      },
      "execution_count": 41,
      "outputs": [
        {
          "output_type": "execute_result",
          "data": {
            "text/plain": [
              "34.99874"
            ]
          },
          "metadata": {},
          "execution_count": 41
        },
        {
          "output_type": "display_data",
          "data": {
            "text/plain": [
              "<Figure size 640x480 with 1 Axes>"
            ],
            "image/png": "[encoded data removed]"
          },
          "metadata": {}
        }
      ]
    },
    {
      "cell_type": "code",
      "source": [
        "sns.histplot(bootstrapped_means_survey_2)\n",
        "np.mean(bootstrapped_means_survey_2)"
      ],
      "metadata": {
        "colab": {
          "base_uri": "https://localhost:8080/",
          "height": 448
        },
        "id": "FQl-tJ5by1cG",
        "outputId": "d84a853e-ccd9-4e39-9c7d-9c61ba44f7d5"
      },
      "execution_count": 42,
      "outputs": [
        {
          "output_type": "execute_result",
          "data": {
            "text/plain": [
              "34.91799999999999"
            ]
          },
          "metadata": {},
          "execution_count": 42
        },
        {
          "output_type": "display_data",
          "data": {
            "text/plain": [
              "<Figure size 640x480 with 1 Axes>"
            ],
            "image/png": "[encoded data removed]"
          },
          "metadata": {}
        }
      ]
    },
    {
      "cell_type": "code",
      "source": [
        "x1 = np.percentile(bootstrapped_means_survey_1, 2.5)\n",
        "x1"
      ],
      "metadata": {
        "colab": {
          "base_uri": "https://localhost:8080/"
        },
        "id": "6aWdSdFdzFMB",
        "outputId": "5ddef414-5eed-4610-813b-bf8f0696a35d"
      },
      "execution_count": 43,
      "outputs": [
        {
          "output_type": "execute_result",
          "data": {
            "text/plain": [
              "34.2"
            ]
          },
          "metadata": {},
          "execution_count": 43
        }
      ]
    },
    {
      "cell_type": "code",
      "source": [
        "x2 = np.percentile(bootstrapped_means_survey_1, 97.5)\n",
        "x2"
      ],
      "metadata": {
        "colab": {
          "base_uri": "https://localhost:8080/"
        },
        "id": "beK03_uKzX-t",
        "outputId": "9a1a1ac8-1099-4972-846b-0df6d8d468ac"
      },
      "execution_count": 44,
      "outputs": [
        {
          "output_type": "execute_result",
          "data": {
            "text/plain": [
              "35.8"
            ]
          },
          "metadata": {},
          "execution_count": 44
        }
      ]
    },
    {
      "cell_type": "code",
      "source": [
        "x1 = np.percentile(bootstrapped_means_survey_2, 2.5)\n",
        "x1"
      ],
      "metadata": {
        "colab": {
          "base_uri": "https://localhost:8080/"
        },
        "id": "FkebIy30zZl5",
        "outputId": "b94f5790-0c6a-40f9-e873-c296a861e161"
      },
      "execution_count": 45,
      "outputs": [
        {
          "output_type": "execute_result",
          "data": {
            "text/plain": [
              "26.6"
            ]
          },
          "metadata": {},
          "execution_count": 45
        }
      ]
    },
    {
      "cell_type": "code",
      "source": [
        "x2 = np.percentile(bootstrapped_means_survey_2, 97.5)\n",
        "x2"
      ],
      "metadata": {
        "colab": {
          "base_uri": "https://localhost:8080/"
        },
        "id": "E6YpaC-Bze6N",
        "outputId": "01c1b247-4f31-40d2-a58d-34a5d18de109"
      },
      "execution_count": 46,
      "outputs": [
        {
          "output_type": "execute_result",
          "data": {
            "text/plain": [
              "43.30249999999996"
            ]
          },
          "metadata": {},
          "execution_count": 46
        }
      ]
    }
  ]
}